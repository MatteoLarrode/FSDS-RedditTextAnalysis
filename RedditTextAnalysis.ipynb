{
 "cells": [
  {
   "cell_type": "markdown",
   "metadata": {},
   "source": [
    "# Text Analysis of Subreddits - Collaborative Project\n",
    "\n",
    "The purpose of this project is to analyse the differences and similarities between different subreddits existing around a common topic. At first, we will collect Reddit data, analyse TF-IDF scores, and attempt to classify the subreddits using k-means and Naive Bayes algorithms. Then, we will introduce networks to visualise connections between threaded comments and users."
   ]
  },
  {
   "cell_type": "code",
   "execution_count": null,
   "metadata": {},
   "outputs": [],
   "source": [
    "# Setup autoreload\n",
    "%load_ext autoreload\n",
    "%autoreload 2\n",
    "\n",
    "# Create README.md \n",
    "# pip3 install nbconvert\n",
    "# jupyter nbconvert --execute --to markdown RedditTextAnalysis.ipynb\n",
    "# then rename to README.md"
   ]
  },
  {
   "cell_type": "markdown",
   "metadata": {},
   "source": [
    "## I/ Collecting Reddit Data"
   ]
  },
  {
   "cell_type": "code",
   "execution_count": null,
   "metadata": {},
   "outputs": [],
   "source": [
    "# Import necessary modules\n",
    "import os\n",
    "import pickle\n",
    "import json\n",
    "import pandas as pd\n",
    "from models.reddit_scraper_monthly import RedditScraper_monthly\n",
    "from config.settings import USER_AGENT\n",
    "from utils.analysis import *\n",
    "from datetime import datetime"
   ]
  },
  {
   "cell_type": "code",
   "execution_count": null,
   "metadata": {},
   "outputs": [],
   "source": [
    "subs_of_interest = ['islam', 'Christianity', 'atheism', 'Buddhism']"
   ]
  },
  {
   "cell_type": "markdown",
   "metadata": {},
   "source": [
    "------"
   ]
  },
  {
   "cell_type": "markdown",
   "metadata": {},
   "source": [
    "### Code for extracting monthly posts"
   ]
  },
  {
   "cell_type": "code",
   "execution_count": null,
   "metadata": {},
   "outputs": [],
   "source": [
    "# Define months in 2024 up to the current month\n",
    "start_dates = [datetime(2024, month, 1) for month in range(1, 12)]\n",
    "end_dates = [datetime(2024, month + 1, 1) if month < 12 else datetime(2024, 12, 31) for month in range(1, 12)]\n",
    "\n",
    "scraper = RedditScraper_monthly(USER_AGENT)\n",
    "\n",
    "# Dictionary to store posts for each subreddit across all months\n",
    "all_posts = {sub: [] for sub in subs_of_interest}\n",
    "\n",
    "# Loop through each month to collect posts\n",
    "for sub in subs_of_interest:\n",
    "    for start, end in zip(start_dates, end_dates):\n",
    "        month_name = start.strftime(\"%B\")\n",
    "        print(f\"Scraping {sub} for {month_name} 2024...\")\n",
    "        \n",
    "        # Scrape posts for the specific month\n",
    "        posts = scraper.get_subreddit_posts(sub, limit=100, cache=True, after=start, before=end)\n",
    "        \n",
    "        # Append the monthly posts to the subreddit-specific list\n",
    "        all_posts[sub].extend(posts)"
   ]
  },
  {
   "cell_type": "code",
   "execution_count": null,
   "metadata": {},
   "outputs": [],
   "source": [
    "# Turning all 40 JSOns into four dataframes \n",
    "# Directory where JSON files are stored\n",
    "cache_dir = 'cache'\n",
    "\n",
    "# Dictionary to store DataFrames\n",
    "dataframes = {}\n",
    "\n",
    "# Loop through each subreddit to combine JSON files into one DataFrame\n",
    "for sub in subs_of_interest:\n",
    "    json_files = [f for f in os.listdir(cache_dir) if f.startswith(sub) and f.endswith('.json')]\n",
    "    \n",
    "    # List to collect individual DataFrames for each month\n",
    "    monthly_data = []\n",
    "    \n",
    "    for json_file in json_files:\n",
    "        with open(os.path.join(cache_dir, json_file), 'r') as f:\n",
    "            data = json.load(f)\n",
    "            df = pd.DataFrame(data)\n",
    "            monthly_data.append(df)\n",
    "    \n",
    "    # Concatenate all monthly data into a single DataFrame for the subreddit\n",
    "    dataframes[sub] = pd.concat(monthly_data, ignore_index=True)\n",
    "\n",
    "# Clean up by removing variables that aren’t needed\n",
    "del cache_dir, subs_of_interest, sub, json_files, monthly_data, json_file, f, data, df\n"
   ]
  },
  {
   "cell_type": "code",
   "execution_count": null,
   "metadata": {},
   "outputs": [],
   "source": [
    "# Extract each topic's DataFrame from the dataframes dictionary for a better overview\n",
    "df_islam = dataframes['islam']\n",
    "df_christianity = dataframes['Christianity']\n",
    "df_atheism = dataframes['atheism']\n",
    "df_buddhism = dataframes['Buddhism']\n",
    "\n",
    "# Note that for the rest of the code to work these dataframes need to be saved as \"df_something\" (i.e., start with df_)"
   ]
  },
  {
   "cell_type": "code",
   "execution_count": null,
   "metadata": {},
   "outputs": [],
   "source": [
    "# Perform TFIDF analysis on aggregated posts for each subreddit\n",
    "for sub, posts in all_posts.items():\n",
    "    print(f\"\\nConducting TFIDF analysis on all posts for {sub} in 2024...\")\n",
    "\n",
    "    # Create a DataFrame for the aggregated posts\n",
    "    posts_df = create_posts_dataframe(posts)\n",
    "    \n",
    "    # Conduct TFIDF analysis\n",
    "    tfidf_results = tfidf_analyze_subreddit(posts)\n",
    "    tf_idf_scores = get_mean_tfidf(\n",
    "        tfidf_matrix=tfidf_results['tfidf_matrix'],\n",
    "        feature_names=tfidf_results['feature_names'],\n",
    "        return_df=True\n",
    "    )\n",
    "    \n",
    "    # Get top 10 terms for each subreddit\n",
    "    top_terms = get_top_terms(tf_idf_scores, n_terms=10)\n",
    "    print(f\"The top 10 terms for {sub} in 2024 are:\\n\", \"\\n\".join(top_terms), sep=\"\")\n",
    "    display(tf_idf_scores.head().style.format(\"{:.3f}\"))"
   ]
  },
  {
   "cell_type": "code",
   "execution_count": null,
   "metadata": {},
   "outputs": [],
   "source": [
    "# Create a 'datetime' column for each DataFrame that ends in '_df' (increases reusability)\n",
    "for name, df in list(globals().items()):\n",
    "    if name.startswith('df_') and isinstance(df, pd.DataFrame):\n",
    "        df['datetime'] = pd.to_datetime(df['created_utc'], unit='s')"
   ]
  }
 ],
 "metadata": {
  "kernelspec": {
   "display_name": ".venv",
   "language": "python",
   "name": "python3"
  },
  "language_info": {
   "codemirror_mode": {
    "name": "ipython",
    "version": 3
   },
   "file_extension": ".py",
   "mimetype": "text/x-python",
   "name": "python",
   "nbconvert_exporter": "python",
   "pygments_lexer": "ipython3",
   "version": "3.11.10"
  }
 },
 "nbformat": 4,
 "nbformat_minor": 2
}
